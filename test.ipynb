{
 "cells": [
  {
   "cell_type": "code",
   "execution_count": 3,
   "metadata": {},
   "outputs": [],
   "source": [
    "import os\n",
    "from langchain_elasticsearch import ElasticsearchStore\n",
    "from elasticsearch import Elasticsearch\n",
    "from langchain_openai import OpenAIEmbeddings\n",
    "\n",
    "embeddings = OpenAIEmbeddings(api_key=os.environ.get(\"OPENAI_API_KEY\"))\n",
    "\n",
    "\n",
    "def setup_es_client() -> Elasticsearch:\n",
    "    \"\"\"\n",
    "    Set up and return an Elasticsearch client using environment variables.\n",
    "\n",
    "    This function reads the Elasticsearch API key and endpoint from environment variables,\n",
    "    initializes an Elasticsearch client, and returns it.\n",
    "\n",
    "    Returns:\n",
    "        Elasticsearch: An initialized Elasticsearch client.\n",
    "    \"\"\"\n",
    "    # Load environment variables for Elasticsearch API and endpoint\n",
    "    ES_API = os.environ.get(\"ES_API\")\n",
    "    ES_ENDPOINT = os.environ.get(\"ES_ENDPOINT\")\n",
    "\n",
    "    # Initialize the Elasticsearch client\n",
    "    es_client = Elasticsearch(\n",
    "        ES_ENDPOINT,\n",
    "        api_key=ES_API\n",
    "    )\n",
    "\n",
    "    return es_client\n",
    "\n",
    "\n",
    "# Create the Elasticsearch client by calling the setup function\n",
    "es_client = setup_es_client()\n",
    "\n",
    "\n",
    "def setup_es_store(index_name: str, es_client: Elasticsearch):\n",
    "    \"\"\"\n",
    "       Sets up and returns an ElasticsearchStore index for storing embeddings and for RAG.\n",
    "\n",
    "       Args:\n",
    "           index_name (str): The name of the Elasticsearch index where embeddings will be stored.\n",
    "           es_client (Elasticsearch): An instance of the Elasticsearch client connected to the Elasticsearch cluster.\n",
    "\n",
    "       Returns:\n",
    "           ElasticsearchStore: An instance of ElasticsearchStore configured with the provided index name,\n",
    "                                embeddings, and Elasticsearch connection.\n",
    "\n",
    "       \"\"\"\n",
    "    es_vector_store = ElasticsearchStore(\n",
    "        embedding=embeddings,\n",
    "        index_name=index_name,\n",
    "        es_connection=es_client\n",
    "    )\n",
    "    return es_vector_store"
   ]
  },
  {
   "cell_type": "code",
   "execution_count": 4,
   "metadata": {},
   "outputs": [],
   "source": [
    "# Setup Elasticsearch store\n",
    "es_store = setup_es_store(\"azal_activities\", es_client)\n"
   ]
  },
  {
   "cell_type": "code",
   "execution_count": 29,
   "metadata": {},
   "outputs": [],
   "source": [
    "def get_azal_activities(question:str):\n",
    "    \"\"\"\n",
    "    Fetch general activities based on a query from Elasticsearch store and process the response.\n",
    "    \"\"\"\n",
    "    # Fetch documents matching the query and location from Elasticsearch\n",
    "    # docs = es_store.as_retriever(\n",
    "    #         question\n",
    "    #         # k=4\n",
    "    #     )\n",
    "\n",
    "        # return response\n",
    "    # return docs\n",
    "    docs = es_store.as_retriever().invoke(question)\n",
    "    return docs"
   ]
  },
  {
   "cell_type": "code",
   "execution_count": 31,
   "metadata": {},
   "outputs": [
    {
     "data": {
      "text/plain": [
       "[Document(page_content=\"Embark on a culinary adventure through Izmir's trendy Alsancak district. Sample local street food, visit traditional eateries, and learn about Aegean cuisine.\", metadata={'location': 'izmir', 'activity_address': 'alsancak, 35220 konak/i̇zmir', 'activity_title': 'alsancak food tour', 'activity_description': \"embark on a culinary adventure through izmir's trendy alsancak district. sample local street food, visit traditional eateries, and learn about aegean cuisine.\", 'min_price': '35', 'max_price': '55', 'duration': '3 hours'}),\n",
       " Document(page_content=\"Discover Izmir's vibrant street art scene on a guided walk through Alsancak. Learn about local artists and the stories behind their colorful murals.\", metadata={'location': 'izmir', 'activity_address': 'alsancak, 35220 konak/i̇zmir', 'activity_title': 'izmir street art walk', 'activity_description': \"discover izmir's vibrant street art scene on a guided walk through alsancak. learn about local artists and the stories behind their colorful murals.\", 'min_price': '20', 'max_price': '35', 'duration': '2.5 hours'}),\n",
       " Document(page_content='Visit the opulent Dolmabahce Palace, the last residence of Ottoman sultans. Marvel at its European-inspired architecture, crystal chandeliers, and beautiful gardens.', metadata={'location': 'istanbul', 'activity_address': 'vişnezade, dolmabahçe cd., 34357 beşiktaş/i̇stanbul', 'activity_title': 'dolmabahce palace tour', 'activity_description': 'visit the opulent dolmabahce palace, the last residence of ottoman sultans. marvel at its european-inspired architecture, crystal chandeliers, and beautiful gardens.', 'min_price': '30', 'max_price': '50', 'duration': '3 hours'}),\n",
       " Document(page_content='Visit local vineyards in the Urla region near Izmir. Tour the facilities, learn about wine production, and enjoy tastings of regional wines.', metadata={'location': 'izmir', 'activity_address': 'urla, 35430 urla/i̇zmir', 'activity_title': 'izmir vineyard tour and wine tasting', 'activity_description': 'visit local vineyards in the urla region near izmir. tour the facilities, learn about wine production, and enjoy tastings of regional wines.', 'min_price': '50', 'max_price': '80', 'duration': '5 hours'})]"
      ]
     },
     "execution_count": 31,
     "metadata": {},
     "output_type": "execute_result"
    }
   ],
   "source": [
    "get_azal_activities(\"what is azal\")"
   ]
  },
  {
   "cell_type": "code",
   "execution_count": null,
   "metadata": {},
   "outputs": [],
   "source": []
  }
 ],
 "metadata": {
  "kernelspec": {
   "display_name": "Python 3",
   "language": "python",
   "name": "python3"
  },
  "language_info": {
   "codemirror_mode": {
    "name": "ipython",
    "version": 3
   },
   "file_extension": ".py",
   "mimetype": "text/x-python",
   "name": "python",
   "nbconvert_exporter": "python",
   "pygments_lexer": "ipython3",
   "version": "3.10.12"
  }
 },
 "nbformat": 4,
 "nbformat_minor": 2
}
